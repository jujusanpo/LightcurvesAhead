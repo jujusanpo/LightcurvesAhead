{
  "cells": [
    {
      "cell_type": "code",
      "execution_count": null,
      "metadata": {
        "id": "pHs0H7e7WYhQ"
      },
      "outputs": [],
      "source": [
        "import pandas as pd\n",
        "import numpy as np\n",
        "import tensorflow as tf\n",
        "from sklearn.model_selection import train_test_split\n",
        "from sklearn.preprocessing import LabelEncoder\n",
        "from sklearn.metrics import classification_report, roc_auc_score\n",
        "from tensorflow.keras.preprocessing.sequence import pad_sequences\n",
        "from tensorflow.keras.utils import to_categorical\n",
        "from collections import defaultdict\n",
        "import matplotlib.pyplot as plt\n",
        "import seaborn as sns"
      ]
    },
    {
      "cell_type": "code",
      "execution_count": null,
      "metadata": {
        "id": "CfXPAf9ZWzrA"
      },
      "outputs": [],
      "source": [
        "# Load parsed lightcurves\n",
        "csv_path = 'parsed_lightcurves.csv'"
      ]
    },
    {
      "cell_type": "code",
      "execution_count": null,
      "metadata": {
        "colab": {
          "base_uri": "https://localhost:8080/"
        },
        "id": "lGH0UmUFWaC2",
        "outputId": "55856c5d-7240-48e7-c420-07ac7702a492"
      },
      "outputs": [
        {
          "name": "stdout",
          "output_type": "stream",
          "text": [
            "Label map: {'acep_lc': 0, 'cep_lc': 1, 't2cep_lc': 2, 'rrlyr_lc': 3, 'lpv_lc': 4, 'deltascuti_lc': 5, 'hb_lc': 6, 'tr_lc': 7, 'ecl_lc': 8}\n"
          ]
        }
      ],
      "source": [
        "df = pd.read_csv(csv_path)\n",
        "unique_labels = df['type'].unique()\n",
        "label_map = {\n",
        "    'acep_lc': 0,\n",
        "    'cep_lc': 1,\n",
        "    't2cep_lc': 2,\n",
        "    'rrlyr_lc': 3,\n",
        "    'lpv_lc': 4,\n",
        "    'deltascuti_lc': 5,\n",
        "    'hb_lc': 6,\n",
        "    'tr_lc': 7,\n",
        "    'ecl_lc': 8,\n",
        "}\n",
        "print(\"Label map:\", label_map)"
      ]
    },
    {
      "cell_type": "code",
      "execution_count": null,
      "metadata": {
        "colab": {
          "base_uri": "https://localhost:8080/"
        },
        "id": "OJndELHPXfSK",
        "outputId": "41e823eb-1f7a-4f70-f536-56fa78217fa6"
      },
      "outputs": [
        {
          "name": "stdout",
          "output_type": "stream",
          "text": [
            "Shape of full dataset: (7144318, 6)\n",
            "\n",
            "Sample rows:\n",
            "                  id     type band            jd     mag    err\n",
            "0  OGLE-GAL-ACEP-001  acep_lc    I  2.456112e+06  14.577  0.005\n",
            "1  OGLE-GAL-ACEP-001  acep_lc    I  2.456117e+06  14.514  0.005\n",
            "2  OGLE-GAL-ACEP-001  acep_lc    I  2.456120e+06  14.609  0.005\n",
            "3  OGLE-GAL-ACEP-001  acep_lc    I  2.456139e+06  14.158  0.005\n",
            "4  OGLE-GAL-ACEP-001  acep_lc    I  2.456151e+06  14.239  0.005\n"
          ]
        }
      ],
      "source": [
        "# Show shape and first few rows\n",
        "print(\"Shape of full dataset:\", df.shape)\n",
        "print(\"\\nSample rows:\")\n",
        "print(df.head())"
      ]
    },
    {
      "cell_type": "code",
      "execution_count": null,
      "metadata": {
        "colab": {
          "base_uri": "https://localhost:8080/"
        },
        "id": "XeWpUcuNXktQ",
        "outputId": "9699045f-441f-4066-e7f3-be85464ff525"
      },
      "outputs": [
        {
          "name": "stdout",
          "output_type": "stream",
          "text": [
            "\n",
            "Class distribution:\n",
            "type\n",
            "cep_lc           5323405\n",
            "deltascuti_lc    1538822\n",
            "acep_lc           204478\n",
            "ecl_lc             77613\n",
            "Name: count, dtype: int64\n"
          ]
        }
      ],
      "source": [
        "# Unique classes and counts\n",
        "print(\"\\nClass distribution:\")\n",
        "print(df['type'].value_counts())"
      ]
    },
    {
      "cell_type": "markdown",
      "metadata": {
        "id": "CJdT2rVQXxnY"
      },
      "source": [
        "Create Sequence Dictionary"
      ]
    },
    {
      "cell_type": "code",
      "execution_count": null,
      "metadata": {
        "id": "9kPwd6upXwRI"
      },
      "outputs": [],
      "source": [
        "def build_sequence_dict(df, band='I'):\n",
        "    grouped = df[df['band'] == band].groupby('id')\n",
        "    seq_dict = {}\n",
        "    label_dict = {}\n",
        "\n",
        "    for id_, group in grouped:\n",
        "        seq = group.sort_values('jd')['mag'].values\n",
        "        label = group['type'].values[0]\n",
        "        seq_dict[id_] = seq\n",
        "        label_dict[id_] = label\n",
        "\n",
        "    return seq_dict, label_dict\n",
        "\n",
        "seq_dict, label_dict = build_sequence_dict(df)"
      ]
    },
    {
      "cell_type": "code",
      "execution_count": null,
      "metadata": {
        "colab": {
          "base_uri": "https://localhost:8080/"
        },
        "id": "5GFaFnSBX3mB",
        "outputId": "55187163-8167-41c4-d008-32af288b9861"
      },
      "outputs": [
        {
          "name": "stdout",
          "output_type": "stream",
          "text": [
            "Label map: {np.str_('acep_lc'): np.int64(0), np.str_('cep_lc'): np.int64(1), np.str_('deltascuti_lc'): np.int64(2), np.str_('ecl_lc'): np.int64(3)}\n"
          ]
        }
      ],
      "source": [
        "label_encoder = LabelEncoder()\n",
        "label_encoder.fit(list(set(label_dict.values())))\n",
        "label_map = dict(zip(label_encoder.classes_, label_encoder.transform(label_encoder.classes_)))\n",
        "print(\"Label map:\", label_map)"
      ]
    },
    {
      "cell_type": "code",
      "execution_count": null,
      "metadata": {
        "id": "t6Wjr1wSX6pY"
      },
      "outputs": [],
      "source": [
        "def prepare_data(percent=0.1, max_len=500):\n",
        "    X, y = [], []\n",
        "    for id_, seq in seq_dict.items():\n",
        "        cut = max(1, int(len(seq) * percent))\n",
        "        seq_cut = seq[:cut]\n",
        "        padded = pad_sequences([seq_cut], maxlen=max_len, dtype='float32', padding='post', truncating='post')[0]\n",
        "        X.append(padded)\n",
        "        y.append(label_map[label_dict[id_]])\n",
        "\n",
        "    X = np.expand_dims(np.array(X), axis=-1)\n",
        "    y = to_categorical(y, num_classes=len(label_map))\n",
        "    return train_test_split(X, y, test_size=0.2, random_state=42)"
      ]
    },
    {
      "cell_type": "markdown",
      "metadata": {
        "id": "uPsp55HWX9j0"
      },
      "source": [
        "LSTM Builder"
      ]
    },
    {
      "cell_type": "code",
      "execution_count": null,
      "metadata": {
        "id": "fweOeikSX-u6"
      },
      "outputs": [],
      "source": [
        "def build_model(input_shape, num_classes):\n",
        "    model = tf.keras.Sequential([\n",
        "        tf.keras.layers.Masking(mask_value=0.0, input_shape=input_shape),\n",
        "        tf.keras.layers.LSTM(64, return_sequences=False),\n",
        "        tf.keras.layers.Dropout(0.3),\n",
        "        tf.keras.layers.Dense(64, activation='relu'),\n",
        "        tf.keras.layers.Dense(num_classes, activation='softmax')\n",
        "    ])\n",
        "\n",
        "    model.compile(optimizer='adam',\n",
        "                  loss='categorical_crossentropy',\n",
        "                  metrics=['accuracy'])\n",
        "    return model"
      ]
    },
    {
      "cell_type": "markdown",
      "metadata": {
        "id": "QcQxozKwYEjh"
      },
      "source": [
        "Training and Evaluation"
      ]
    },
    {
      "cell_type": "code",
      "execution_count": null,
      "metadata": {
        "id": "46MJZicGYAkN"
      },
      "outputs": [],
      "source": [
        "percentages = [0.1, 0.2, 0.5]\n",
        "results = {}"
      ]
    },
    {
      "cell_type": "code",
      "execution_count": null,
      "metadata": {
        "colab": {
          "base_uri": "https://localhost:8080/"
        },
        "id": "_DnVa-5BYD7d",
        "outputId": "853a7633-a72c-4f13-b29b-22acc63643b6"
      },
      "outputs": [
        {
          "name": "stdout",
          "output_type": "stream",
          "text": [
            "\n",
            "=== Training for 10% of lightcurve ===\n"
          ]
        },
        {
          "name": "stderr",
          "output_type": "stream",
          "text": [
            "/usr/local/lib/python3.11/dist-packages/keras/src/layers/core/masking.py:47: UserWarning: Do not pass an `input_shape`/`input_dim` argument to a layer. When using Sequential models, prefer using an `Input(shape)` object as the first layer in the model instead.\n",
            "  super().__init__(**kwargs)\n"
          ]
        },
        {
          "name": "stdout",
          "output_type": "stream",
          "text": [
            "Epoch 1/5\n",
            "\u001b[1m72/72\u001b[0m \u001b[32m━━━━━━━━━━━━━━━━━━━━\u001b[0m\u001b[37m\u001b[0m \u001b[1m80s\u001b[0m 1s/step - accuracy: 0.7841 - loss: 0.7081 - val_accuracy: 0.8704 - val_loss: 0.4407\n",
            "Epoch 2/5\n",
            "\u001b[1m72/72\u001b[0m \u001b[32m━━━━━━━━━━━━━━━━━━━━\u001b[0m\u001b[37m\u001b[0m \u001b[1m69s\u001b[0m 872ms/step - accuracy: 0.8735 - loss: 0.4382 - val_accuracy: 0.8866 - val_loss: 0.3786\n",
            "Epoch 3/5\n",
            "\u001b[1m72/72\u001b[0m \u001b[32m━━━━━━━━━━━━━━━━━━━━\u001b[0m\u001b[37m\u001b[0m \u001b[1m86s\u001b[0m 946ms/step - accuracy: 0.8874 - loss: 0.3600 - val_accuracy: 0.8704 - val_loss: 0.3940\n",
            "Epoch 4/5\n",
            "\u001b[1m72/72\u001b[0m \u001b[32m━━━━━━━━━━━━━━━━━━━━\u001b[0m\u001b[37m\u001b[0m \u001b[1m84s\u001b[0m 973ms/step - accuracy: 0.8786 - loss: 0.3865 - val_accuracy: 0.9051 - val_loss: 0.3263\n",
            "Epoch 5/5\n",
            "\u001b[1m72/72\u001b[0m \u001b[32m━━━━━━━━━━━━━━━━━━━━\u001b[0m\u001b[37m\u001b[0m \u001b[1m77s\u001b[0m 1s/step - accuracy: 0.9032 - loss: 0.3346 - val_accuracy: 0.9086 - val_loss: 0.3080\n",
            "\u001b[1m72/72\u001b[0m \u001b[32m━━━━━━━━━━━━━━━━━━━━\u001b[0m\u001b[37m\u001b[0m \u001b[1m7s\u001b[0m 91ms/step\n",
            "\n",
            "Classification Report:\n",
            "              precision    recall  f1-score   support\n",
            "\n",
            "           0       0.00      0.00      0.00        73\n",
            "           1       0.92      0.99      0.95      1981\n",
            "           2       0.70      0.56      0.62       202\n",
            "           3       0.00      0.00      0.00        20\n",
            "\n",
            "    accuracy                           0.91      2276\n",
            "   macro avg       0.41      0.39      0.39      2276\n",
            "weighted avg       0.87      0.91      0.89      2276\n",
            "\n",
            "ROC-AUC: 0.8785504922787452\n",
            "\n",
            "=== Training for 20% of lightcurve ===\n"
          ]
        },
        {
          "name": "stderr",
          "output_type": "stream",
          "text": [
            "/usr/local/lib/python3.11/dist-packages/sklearn/metrics/_classification.py:1565: UndefinedMetricWarning: Precision is ill-defined and being set to 0.0 in labels with no predicted samples. Use `zero_division` parameter to control this behavior.\n",
            "  _warn_prf(average, modifier, f\"{metric.capitalize()} is\", len(result))\n",
            "/usr/local/lib/python3.11/dist-packages/sklearn/metrics/_classification.py:1565: UndefinedMetricWarning: Precision is ill-defined and being set to 0.0 in labels with no predicted samples. Use `zero_division` parameter to control this behavior.\n",
            "  _warn_prf(average, modifier, f\"{metric.capitalize()} is\", len(result))\n",
            "/usr/local/lib/python3.11/dist-packages/sklearn/metrics/_classification.py:1565: UndefinedMetricWarning: Precision is ill-defined and being set to 0.0 in labels with no predicted samples. Use `zero_division` parameter to control this behavior.\n",
            "  _warn_prf(average, modifier, f\"{metric.capitalize()} is\", len(result))\n",
            "/usr/local/lib/python3.11/dist-packages/sklearn/metrics/_classification.py:1565: UndefinedMetricWarning: Precision is ill-defined and being set to 0.0 in labels with no predicted samples. Use `zero_division` parameter to control this behavior.\n",
            "  _warn_prf(average, modifier, f\"{metric.capitalize()} is\", len(result))\n",
            "/usr/local/lib/python3.11/dist-packages/sklearn/metrics/_classification.py:1565: UndefinedMetricWarning: Precision is ill-defined and being set to 0.0 in labels with no predicted samples. Use `zero_division` parameter to control this behavior.\n",
            "  _warn_prf(average, modifier, f\"{metric.capitalize()} is\", len(result))\n",
            "/usr/local/lib/python3.11/dist-packages/sklearn/metrics/_classification.py:1565: UndefinedMetricWarning: Precision is ill-defined and being set to 0.0 in labels with no predicted samples. Use `zero_division` parameter to control this behavior.\n",
            "  _warn_prf(average, modifier, f\"{metric.capitalize()} is\", len(result))\n",
            "/usr/local/lib/python3.11/dist-packages/keras/src/layers/core/masking.py:47: UserWarning: Do not pass an `input_shape`/`input_dim` argument to a layer. When using Sequential models, prefer using an `Input(shape)` object as the first layer in the model instead.\n",
            "  super().__init__(**kwargs)\n"
          ]
        },
        {
          "name": "stdout",
          "output_type": "stream",
          "text": [
            "Epoch 1/5\n",
            "\u001b[1m72/72\u001b[0m \u001b[32m━━━━━━━━━━━━━━━━━━━━\u001b[0m\u001b[37m\u001b[0m \u001b[1m71s\u001b[0m 945ms/step - accuracy: 0.6654 - loss: 0.8945 - val_accuracy: 0.8704 - val_loss: 0.4347\n",
            "Epoch 2/5\n",
            "\u001b[1m72/72\u001b[0m \u001b[32m━━━━━━━━━━━━━━━━━━━━\u001b[0m\u001b[37m\u001b[0m \u001b[1m83s\u001b[0m 962ms/step - accuracy: 0.8711 - loss: 0.4096 - val_accuracy: 0.8919 - val_loss: 0.3453\n",
            "Epoch 3/5\n",
            "\u001b[1m72/72\u001b[0m \u001b[32m━━━━━━━━━━━━━━━━━━━━\u001b[0m\u001b[37m\u001b[0m \u001b[1m82s\u001b[0m 956ms/step - accuracy: 0.8872 - loss: 0.3617 - val_accuracy: 0.9038 - val_loss: 0.3258\n",
            "Epoch 4/5\n",
            "\u001b[1m72/72\u001b[0m \u001b[32m━━━━━━━━━━━━━━━━━━━━\u001b[0m\u001b[37m\u001b[0m \u001b[1m78s\u001b[0m 908ms/step - accuracy: 0.8987 - loss: 0.3406 - val_accuracy: 0.8976 - val_loss: 0.3370\n",
            "Epoch 5/5\n",
            "\u001b[1m72/72\u001b[0m \u001b[32m━━━━━━━━━━━━━━━━━━━━\u001b[0m\u001b[37m\u001b[0m \u001b[1m84s\u001b[0m 935ms/step - accuracy: 0.9015 - loss: 0.3350 - val_accuracy: 0.9042 - val_loss: 0.3188\n",
            "\u001b[1m72/72\u001b[0m \u001b[32m━━━━━━━━━━━━━━━━━━━━\u001b[0m\u001b[37m\u001b[0m \u001b[1m6s\u001b[0m 85ms/step\n"
          ]
        },
        {
          "name": "stderr",
          "output_type": "stream",
          "text": [
            "/usr/local/lib/python3.11/dist-packages/sklearn/metrics/_classification.py:1565: UndefinedMetricWarning: Precision is ill-defined and being set to 0.0 in labels with no predicted samples. Use `zero_division` parameter to control this behavior.\n",
            "  _warn_prf(average, modifier, f\"{metric.capitalize()} is\", len(result))\n",
            "/usr/local/lib/python3.11/dist-packages/sklearn/metrics/_classification.py:1565: UndefinedMetricWarning: Precision is ill-defined and being set to 0.0 in labels with no predicted samples. Use `zero_division` parameter to control this behavior.\n",
            "  _warn_prf(average, modifier, f\"{metric.capitalize()} is\", len(result))\n",
            "/usr/local/lib/python3.11/dist-packages/sklearn/metrics/_classification.py:1565: UndefinedMetricWarning: Precision is ill-defined and being set to 0.0 in labels with no predicted samples. Use `zero_division` parameter to control this behavior.\n",
            "  _warn_prf(average, modifier, f\"{metric.capitalize()} is\", len(result))\n",
            "/usr/local/lib/python3.11/dist-packages/sklearn/metrics/_classification.py:1565: UndefinedMetricWarning: Precision is ill-defined and being set to 0.0 in labels with no predicted samples. Use `zero_division` parameter to control this behavior.\n",
            "  _warn_prf(average, modifier, f\"{metric.capitalize()} is\", len(result))\n",
            "/usr/local/lib/python3.11/dist-packages/sklearn/metrics/_classification.py:1565: UndefinedMetricWarning: Precision is ill-defined and being set to 0.0 in labels with no predicted samples. Use `zero_division` parameter to control this behavior.\n",
            "  _warn_prf(average, modifier, f\"{metric.capitalize()} is\", len(result))\n",
            "/usr/local/lib/python3.11/dist-packages/sklearn/metrics/_classification.py:1565: UndefinedMetricWarning: Precision is ill-defined and being set to 0.0 in labels with no predicted samples. Use `zero_division` parameter to control this behavior.\n",
            "  _warn_prf(average, modifier, f\"{metric.capitalize()} is\", len(result))\n",
            "/usr/local/lib/python3.11/dist-packages/keras/src/layers/core/masking.py:47: UserWarning: Do not pass an `input_shape`/`input_dim` argument to a layer. When using Sequential models, prefer using an `Input(shape)` object as the first layer in the model instead.\n",
            "  super().__init__(**kwargs)\n"
          ]
        },
        {
          "name": "stdout",
          "output_type": "stream",
          "text": [
            "\n",
            "Classification Report:\n",
            "              precision    recall  f1-score   support\n",
            "\n",
            "           0       0.00      0.00      0.00        73\n",
            "           1       0.94      0.97      0.95      1981\n",
            "           2       0.59      0.67      0.63       202\n",
            "           3       0.00      0.00      0.00        20\n",
            "\n",
            "    accuracy                           0.90      2276\n",
            "   macro avg       0.38      0.41      0.40      2276\n",
            "weighted avg       0.87      0.90      0.89      2276\n",
            "\n",
            "ROC-AUC: 0.8782135423712902\n",
            "\n",
            "=== Training for 50% of lightcurve ===\n",
            "Epoch 1/5\n",
            "\u001b[1m72/72\u001b[0m \u001b[32m━━━━━━━━━━━━━━━━━━━━\u001b[0m\u001b[37m\u001b[0m \u001b[1m71s\u001b[0m 937ms/step - accuracy: 0.8590 - loss: 0.5908 - val_accuracy: 0.8774 - val_loss: 0.3859\n",
            "Epoch 2/5\n",
            "\u001b[1m72/72\u001b[0m \u001b[32m━━━━━━━━━━━━━━━━━━━━\u001b[0m\u001b[37m\u001b[0m \u001b[1m84s\u001b[0m 966ms/step - accuracy: 0.8739 - loss: 0.3730 - val_accuracy: 0.9007 - val_loss: 0.3309\n",
            "Epoch 3/5\n",
            "\u001b[1m72/72\u001b[0m \u001b[32m━━━━━━━━━━━━━━━━━━━━\u001b[0m\u001b[37m\u001b[0m \u001b[1m80s\u001b[0m 951ms/step - accuracy: 0.9055 - loss: 0.3241 - val_accuracy: 0.8704 - val_loss: 0.3702\n",
            "Epoch 4/5\n",
            "\u001b[1m72/72\u001b[0m \u001b[32m━━━━━━━━━━━━━━━━━━━━\u001b[0m\u001b[37m\u001b[0m \u001b[1m83s\u001b[0m 971ms/step - accuracy: 0.8934 - loss: 0.3558 - val_accuracy: 0.9029 - val_loss: 0.3266\n",
            "Epoch 5/5\n",
            "\u001b[1m72/72\u001b[0m \u001b[32m━━━━━━━━━━━━━━━━━━━━\u001b[0m\u001b[37m\u001b[0m \u001b[1m80s\u001b[0m 936ms/step - accuracy: 0.9081 - loss: 0.3215 - val_accuracy: 0.9038 - val_loss: 0.3122\n",
            "\u001b[1m72/72\u001b[0m \u001b[32m━━━━━━━━━━━━━━━━━━━━\u001b[0m\u001b[37m\u001b[0m \u001b[1m6s\u001b[0m 77ms/step\n",
            "\n",
            "Classification Report:\n",
            "              precision    recall  f1-score   support\n",
            "\n",
            "           0       0.00      0.00      0.00        73\n",
            "           1       0.93      0.98      0.95      1981\n",
            "           2       0.64      0.58      0.61       202\n",
            "           3       0.00      0.00      0.00        20\n",
            "\n",
            "    accuracy                           0.90      2276\n",
            "   macro avg       0.39      0.39      0.39      2276\n",
            "weighted avg       0.86      0.90      0.88      2276\n",
            "\n",
            "ROC-AUC: 0.8764888318956923\n"
          ]
        },
        {
          "name": "stderr",
          "output_type": "stream",
          "text": [
            "/usr/local/lib/python3.11/dist-packages/sklearn/metrics/_classification.py:1565: UndefinedMetricWarning: Precision is ill-defined and being set to 0.0 in labels with no predicted samples. Use `zero_division` parameter to control this behavior.\n",
            "  _warn_prf(average, modifier, f\"{metric.capitalize()} is\", len(result))\n",
            "/usr/local/lib/python3.11/dist-packages/sklearn/metrics/_classification.py:1565: UndefinedMetricWarning: Precision is ill-defined and being set to 0.0 in labels with no predicted samples. Use `zero_division` parameter to control this behavior.\n",
            "  _warn_prf(average, modifier, f\"{metric.capitalize()} is\", len(result))\n",
            "/usr/local/lib/python3.11/dist-packages/sklearn/metrics/_classification.py:1565: UndefinedMetricWarning: Precision is ill-defined and being set to 0.0 in labels with no predicted samples. Use `zero_division` parameter to control this behavior.\n",
            "  _warn_prf(average, modifier, f\"{metric.capitalize()} is\", len(result))\n",
            "/usr/local/lib/python3.11/dist-packages/sklearn/metrics/_classification.py:1565: UndefinedMetricWarning: Precision is ill-defined and being set to 0.0 in labels with no predicted samples. Use `zero_division` parameter to control this behavior.\n",
            "  _warn_prf(average, modifier, f\"{metric.capitalize()} is\", len(result))\n",
            "/usr/local/lib/python3.11/dist-packages/sklearn/metrics/_classification.py:1565: UndefinedMetricWarning: Precision is ill-defined and being set to 0.0 in labels with no predicted samples. Use `zero_division` parameter to control this behavior.\n",
            "  _warn_prf(average, modifier, f\"{metric.capitalize()} is\", len(result))\n",
            "/usr/local/lib/python3.11/dist-packages/sklearn/metrics/_classification.py:1565: UndefinedMetricWarning: Precision is ill-defined and being set to 0.0 in labels with no predicted samples. Use `zero_division` parameter to control this behavior.\n",
            "  _warn_prf(average, modifier, f\"{metric.capitalize()} is\", len(result))\n"
          ]
        }
      ],
      "source": [
        "for pct in percentages:\n",
        "    print(f\"\\n=== Training for {int(pct*100)}% of lightcurve ===\")\n",
        "    X_train, X_test, y_train, y_test = prepare_data(percent=pct, max_len=500)\n",
        "\n",
        "    model = build_model(X_train.shape[1:], y_train.shape[1])\n",
        "    history = model.fit(X_train, y_train, epochs=5, batch_size=128, validation_data=(X_test, y_test), verbose=1)\n",
        "\n",
        "    y_pred = model.predict(X_test)\n",
        "    y_true = np.argmax(y_test, axis=1)\n",
        "    y_pred_labels = np.argmax(y_pred, axis=1)\n",
        "\n",
        "    report = classification_report(y_true, y_pred_labels, output_dict=True)\n",
        "    auc = roc_auc_score(y_test, y_pred, multi_class='ovr')\n",
        "\n",
        "    results[int(pct*100)] = {\n",
        "        'classification_report': report,\n",
        "        'roc_auc': auc\n",
        "    }\n",
        "\n",
        "    print(\"\\nClassification Report:\")\n",
        "    print(classification_report(y_true, y_pred_labels))\n",
        "    print(\"ROC-AUC:\", auc)\n"
      ]
    },
    {
      "cell_type": "code",
      "execution_count": 1,
      "metadata": {},
      "outputs": [
        {
          "ename": "NameError",
          "evalue": "name 'percentages' is not defined",
          "output_type": "error",
          "traceback": [
            "\u001b[1;31m---------------------------------------------------------------------------\u001b[0m",
            "\u001b[1;31mNameError\u001b[0m                                 Traceback (most recent call last)",
            "Cell \u001b[1;32mIn[1], line 5\u001b[0m\n\u001b[0;32m      2\u001b[0m \u001b[38;5;28;01mimport\u001b[39;00m \u001b[38;5;21;01mpandas\u001b[39;00m \u001b[38;5;28;01mas\u001b[39;00m \u001b[38;5;21;01mpd\u001b[39;00m\n\u001b[0;32m      4\u001b[0m \u001b[38;5;66;03m# Assume y_true, y_pred_labels, and y_pred are already computed\u001b[39;00m\n\u001b[1;32m----> 5\u001b[0m \u001b[38;5;28;01mfor\u001b[39;00m pct \u001b[38;5;129;01min\u001b[39;00m percentages:\n\u001b[0;32m      6\u001b[0m     \u001b[38;5;28mprint\u001b[39m(\u001b[38;5;124mf\u001b[39m\u001b[38;5;124m\"\u001b[39m\u001b[38;5;130;01m\\n\u001b[39;00m\u001b[38;5;124m=== Saving data for \u001b[39m\u001b[38;5;132;01m{\u001b[39;00m\u001b[38;5;28mint\u001b[39m(pct\u001b[38;5;241m*\u001b[39m\u001b[38;5;241m100\u001b[39m)\u001b[38;5;132;01m}\u001b[39;00m\u001b[38;5;124m% of lightcurve ===\u001b[39m\u001b[38;5;124m\"\u001b[39m)\n\u001b[0;32m      8\u001b[0m     \u001b[38;5;66;03m# Prepare the results (already computed during your training loop)\u001b[39;00m\n",
            "\u001b[1;31mNameError\u001b[0m: name 'percentages' is not defined"
          ]
        }
      ],
      "source": [
        "import numpy as np\n",
        "import pandas as pd\n",
        "\n",
        "# Assume y_true, y_pred_labels, and y_pred are already computed\n",
        "for pct in percentages:\n",
        "    print(f\"\\n=== Saving data for {int(pct*100)}% of lightcurve ===\")\n",
        "\n",
        "    # Prepare the results (already computed during your training loop)\n",
        "    y_true = np.argmax(y_test, axis=1)\n",
        "    y_pred_labels = np.argmax(y_pred, axis=1)\n",
        "\n",
        "    # Store the data into a DataFrame or Numpy file\n",
        "    df = pd.DataFrame({\n",
        "        'y_true': y_true,\n",
        "        'y_pred_labels': y_pred_labels,\n",
        "        'y_pred': y_pred.tolist()  # Save probabilities as a list\n",
        "    })\n",
        "\n",
        "    # Save it into a file (use CSV or Numpy, depending on preference)\n",
        "    df.to_csv(f\"predictions_{int(pct*100)}%.csv\", index=False)  # or .npy for Numpy arrays\n"
      ]
    },
    {
      "cell_type": "markdown",
      "metadata": {
        "id": "7AJWjYbqlasE"
      },
      "source": [
        "RNN"
      ]
    },
    {
      "cell_type": "code",
      "execution_count": null,
      "metadata": {
        "id": "f3-X4Xr5lbda"
      },
      "outputs": [],
      "source": [
        "import pandas as pd\n",
        "import numpy as np\n",
        "from sklearn.model_selection import train_test_split\n",
        "from tensorflow.keras.preprocessing.sequence import pad_sequences\n",
        "from tensorflow.keras.utils import to_categorical\n",
        "from tensorflow.keras.models import Sequential\n",
        "from tensorflow.keras.layers import Embedding, SimpleRNN, Dense, Masking\n",
        "from tensorflow.keras.callbacks import EarlyStopping\n",
        "\n",
        "from sklearn.metrics import classification_report, confusion_matrix\n",
        "import seaborn as sns\n",
        "import matplotlib.pyplot as plt\n",
        "import numpy as np"
      ]
    },
    {
      "cell_type": "code",
      "execution_count": null,
      "metadata": {
        "id": "UbhMHWH9leYw"
      },
      "outputs": [],
      "source": [
        "# Map string labels to integers\n",
        "label_map = {\n",
        "    'acep_lc': 0,\n",
        "    'cep_lc': 1,\n",
        "    't2cep_lc': 2,\n",
        "    'rr_lc': 3,\n",
        "    'mira_lc': 4,\n",
        "    'deltascuti_lc': 5,\n",
        "    'heartbeat_lc': 6,\n",
        "    'ecl_lc': 7,\n",
        "}\n",
        "df['label'] = df['type'].map(label_map)"
      ]
    },
    {
      "cell_type": "code",
      "execution_count": null,
      "metadata": {
        "id": "p1yxQHYClgjq"
      },
      "outputs": [],
      "source": [
        "# Group by star id\n",
        "sequences = []\n",
        "labels = []\n",
        "\n",
        "for id, group in df.groupby(\"id\"):\n",
        "    seq = group.sort_values(\"jd\")[\"mag\"].values\n",
        "    label = group[\"label\"].values[0]\n",
        "    sequences.append(seq)\n",
        "    labels.append(label)\n"
      ]
    },
    {
      "cell_type": "code",
      "execution_count": null,
      "metadata": {
        "id": "EPq-w1d7nB3s"
      },
      "outputs": [],
      "source": [
        "MAX_LEN = 300  # or adjust as needed\n",
        "PAD_VALUE = 0.0"
      ]
    },
    {
      "cell_type": "code",
      "execution_count": null,
      "metadata": {
        "id": "fl2Q3wvZmVrP"
      },
      "outputs": [],
      "source": [
        "i_band_sequences = []\n",
        "i_band_labels = []\n",
        "\n",
        "grouped = df[df['band'] == 'I'].groupby('id')\n",
        "\n",
        "for star_id, group in grouped:\n",
        "    sequence = group.sort_values('jd')['mag'].tolist()\n",
        "    label = group['type'].iloc[0]\n",
        "    if len(sequence) > 0:\n",
        "        i_band_sequences.append(sequence)\n",
        "        i_band_labels.append(label)"
      ]
    },
    {
      "cell_type": "code",
      "execution_count": null,
      "metadata": {
        "id": "esb62BJ5lnUh"
      },
      "outputs": [],
      "source": [
        "# Padding and encoding\n",
        "X = pad_sequences(i_band_sequences, maxlen=MAX_LEN, dtype='float32',\n",
        "                  padding='post', truncating='post', value=PAD_VALUE)\n",
        "X = X[..., np.newaxis]"
      ]
    },
    {
      "cell_type": "code",
      "execution_count": null,
      "metadata": {
        "id": "JmVGMBERmoBW"
      },
      "outputs": [],
      "source": [
        "label_encoder = LabelEncoder()\n",
        "y_encoded = label_encoder.fit_transform(i_band_labels)\n",
        "y = to_categorical(y_encoded)"
      ]
    },
    {
      "cell_type": "code",
      "execution_count": null,
      "metadata": {
        "id": "J2f3jOcPm6hH"
      },
      "outputs": [],
      "source": [
        "X_train, X_val, y_train, y_val = train_test_split(X, y, test_size=0.2, random_state=42)"
      ]
    },
    {
      "cell_type": "code",
      "execution_count": null,
      "metadata": {
        "colab": {
          "base_uri": "https://localhost:8080/"
        },
        "id": "QM_gkV5NnM3Y",
        "outputId": "92c8310c-0981-4d2a-9c5f-067fbc90958f"
      },
      "outputs": [
        {
          "name": "stderr",
          "output_type": "stream",
          "text": [
            "/usr/local/lib/python3.11/dist-packages/keras/src/layers/core/masking.py:47: UserWarning: Do not pass an `input_shape`/`input_dim` argument to a layer. When using Sequential models, prefer using an `Input(shape)` object as the first layer in the model instead.\n",
            "  super().__init__(**kwargs)\n"
          ]
        }
      ],
      "source": [
        "# Define model\n",
        "model = Sequential()\n",
        "model.add(Masking(mask_value=PAD_VALUE, input_shape=(MAX_LEN, 1)))\n",
        "model.add(SimpleRNN(64, return_sequences=False))\n",
        "model.add(Dense(64, activation='relu'))\n",
        "model.add(Dense(len(label_encoder.classes_), activation='softmax'))"
      ]
    },
    {
      "cell_type": "code",
      "execution_count": null,
      "metadata": {
        "id": "66es2dtCnOSw"
      },
      "outputs": [],
      "source": [
        "# Compile model\n",
        "model.compile(optimizer='adam', loss='categorical_crossentropy', metrics=['accuracy'])"
      ]
    },
    {
      "cell_type": "code",
      "execution_count": null,
      "metadata": {
        "id": "f_goBqZonQDk"
      },
      "outputs": [],
      "source": [
        "# Setup early stopping\n",
        "early_stop = EarlyStopping(monitor='val_loss', patience=3, restore_best_weights=True)"
      ]
    },
    {
      "cell_type": "code",
      "execution_count": null,
      "metadata": {
        "colab": {
          "base_uri": "https://localhost:8080/"
        },
        "id": "lWEvZtginRfu",
        "outputId": "1ce3f0d5-237d-4b42-cbe5-05b963fe3397"
      },
      "outputs": [
        {
          "name": "stdout",
          "output_type": "stream",
          "text": [
            "Epoch 1/20\n",
            "\u001b[1m143/143\u001b[0m \u001b[32m━━━━━━━━━━━━━━━━━━━━\u001b[0m\u001b[37m\u001b[0m \u001b[1m22s\u001b[0m 117ms/step - accuracy: 0.7893 - loss: 0.6200 - val_accuracy: 0.8994 - val_loss: 0.3389\n",
            "Epoch 2/20\n",
            "\u001b[1m143/143\u001b[0m \u001b[32m━━━━━━━━━━━━━━━━━━━━\u001b[0m\u001b[37m\u001b[0m \u001b[1m17s\u001b[0m 116ms/step - accuracy: 0.9022 - loss: 0.3284 - val_accuracy: 0.8989 - val_loss: 0.3314\n",
            "Epoch 3/20\n",
            "\u001b[1m143/143\u001b[0m \u001b[32m━━━━━━━━━━━━━━━━━━━━\u001b[0m\u001b[37m\u001b[0m \u001b[1m21s\u001b[0m 118ms/step - accuracy: 0.9098 - loss: 0.3115 - val_accuracy: 0.9038 - val_loss: 0.3136\n",
            "Epoch 4/20\n",
            "\u001b[1m143/143\u001b[0m \u001b[32m━━━━━━━━━━━━━━━━━━━━\u001b[0m\u001b[37m\u001b[0m \u001b[1m22s\u001b[0m 127ms/step - accuracy: 0.9134 - loss: 0.2976 - val_accuracy: 0.9038 - val_loss: 0.3087\n",
            "Epoch 5/20\n",
            "\u001b[1m143/143\u001b[0m \u001b[32m━━━━━━━━━━━━━━━━━━━━\u001b[0m\u001b[37m\u001b[0m \u001b[1m19s\u001b[0m 116ms/step - accuracy: 0.9102 - loss: 0.3073 - val_accuracy: 0.9029 - val_loss: 0.3096\n",
            "Epoch 6/20\n",
            "\u001b[1m143/143\u001b[0m \u001b[32m━━━━━━━━━━━━━━━━━━━━\u001b[0m\u001b[37m\u001b[0m \u001b[1m21s\u001b[0m 123ms/step - accuracy: 0.9131 - loss: 0.2968 - val_accuracy: 0.8985 - val_loss: 0.3360\n",
            "Epoch 7/20\n",
            "\u001b[1m143/143\u001b[0m \u001b[32m━━━━━━━━━━━━━━━━━━━━\u001b[0m\u001b[37m\u001b[0m \u001b[1m19s\u001b[0m 116ms/step - accuracy: 0.9129 - loss: 0.2873 - val_accuracy: 0.9038 - val_loss: 0.3112\n"
          ]
        }
      ],
      "source": [
        "# Train\n",
        "history = model.fit(\n",
        "    X_train, y_train,\n",
        "    validation_data=(X_val, y_val),\n",
        "    epochs=20,\n",
        "    batch_size=64,\n",
        "    callbacks=[early_stop]\n",
        ")"
      ]
    },
    {
      "cell_type": "code",
      "execution_count": null,
      "metadata": {
        "colab": {
          "base_uri": "https://localhost:8080/"
        },
        "id": "M9LofsKVo7Ke",
        "outputId": "c9045959-b496-462e-90cc-bbcf1332ceee"
      },
      "outputs": [
        {
          "name": "stdout",
          "output_type": "stream",
          "text": [
            "Class weights: {np.int64(0): np.float64(7.246815286624204), np.int64(1): np.float64(0.28658690176322416), np.int64(2): np.float64(2.851503759398496), np.int64(3): np.float64(45.51)}\n"
          ]
        }
      ],
      "source": [
        "from sklearn.utils.class_weight import compute_class_weight\n",
        "import numpy as np\n",
        "\n",
        "# y_train is one‑hot; convert back to integer labels\n",
        "y_train_int = np.argmax(y_train, axis=1)\n",
        "\n",
        "# Compute balanced class weights\n",
        "classes = np.unique(y_train_int)\n",
        "weights = compute_class_weight(class_weight='balanced', classes=classes, y=y_train_int)\n",
        "\n",
        "# Make into dict: {class_index: weight}\n",
        "class_weight = dict(zip(classes, weights))\n",
        "print(\"Class weights:\", class_weight)"
      ]
    },
    {
      "cell_type": "code",
      "execution_count": null,
      "metadata": {
        "colab": {
          "base_uri": "https://localhost:8080/"
        },
        "id": "21prlCSWo86G",
        "outputId": "88abc939-29b4-4cd2-db20-cf228407c7ff"
      },
      "outputs": [
        {
          "name": "stdout",
          "output_type": "stream",
          "text": [
            "Epoch 1/20\n"
          ]
        },
        {
          "name": "stderr",
          "output_type": "stream",
          "text": [
            "Exception ignored in: <function _xla_gc_callback at 0x7f070c092480>\n",
            "Traceback (most recent call last):\n",
            "  File \"/usr/local/lib/python3.11/dist-packages/jax/_src/lib/__init__.py\", line 96, in _xla_gc_callback\n",
            "    def _xla_gc_callback(*args):\n",
            "    \n",
            "KeyboardInterrupt: \n"
          ]
        },
        {
          "name": "stdout",
          "output_type": "stream",
          "text": [
            "\u001b[1m143/143\u001b[0m \u001b[32m━━━━━━━━━━━━━━━━━━━━\u001b[0m\u001b[37m\u001b[0m \u001b[1m97s\u001b[0m 118ms/step - accuracy: 0.5822 - loss: 1.4450 - val_accuracy: 0.5488 - val_loss: 1.1256\n",
            "Epoch 2/20\n",
            "\u001b[1m143/143\u001b[0m \u001b[32m━━━━━━━━━━━━━━━━━━━━\u001b[0m\u001b[37m\u001b[0m \u001b[1m17s\u001b[0m 117ms/step - accuracy: 0.6655 - loss: 1.1554 - val_accuracy: 0.6516 - val_loss: 1.0101\n",
            "Epoch 3/20\n",
            "\u001b[1m143/143\u001b[0m \u001b[32m━━━━━━━━━━━━━━━━━━━━\u001b[0m\u001b[37m\u001b[0m \u001b[1m21s\u001b[0m 117ms/step - accuracy: 0.6884 - loss: 1.1486 - val_accuracy: 0.8554 - val_loss: 0.5550\n",
            "Epoch 4/20\n",
            "\u001b[1m143/143\u001b[0m \u001b[32m━━━━━━━━━━━━━━━━━━━━\u001b[0m\u001b[37m\u001b[0m \u001b[1m20s\u001b[0m 115ms/step - accuracy: 0.7142 - loss: 1.0898 - val_accuracy: 0.5782 - val_loss: 1.1180\n",
            "Epoch 5/20\n",
            "\u001b[1m143/143\u001b[0m \u001b[32m━━━━━━━━━━━━━━━━━━━━\u001b[0m\u001b[37m\u001b[0m \u001b[1m21s\u001b[0m 121ms/step - accuracy: 0.6993 - loss: 1.1547 - val_accuracy: 0.8686 - val_loss: 0.6092\n",
            "Epoch 6/20\n",
            "\u001b[1m143/143\u001b[0m \u001b[32m━━━━━━━━━━━━━━━━━━━━\u001b[0m\u001b[37m\u001b[0m \u001b[1m17s\u001b[0m 115ms/step - accuracy: 0.7877 - loss: 1.0437 - val_accuracy: 0.5725 - val_loss: 1.0760\n"
          ]
        }
      ],
      "source": [
        "history = model.fit(\n",
        "    X_train, y_train,\n",
        "    validation_data=(X_val, y_val),\n",
        "    epochs=20,\n",
        "    batch_size=64,\n",
        "    class_weight=class_weight,\n",
        "    callbacks=[early_stop]\n",
        ")"
      ]
    },
    {
      "cell_type": "code",
      "execution_count": null,
      "metadata": {
        "colab": {
          "base_uri": "https://localhost:8080/"
        },
        "id": "c2f391Bppzyp",
        "outputId": "930c5ab9-2360-41ba-ace2-d596cf49de7b"
      },
      "outputs": [
        {
          "name": "stdout",
          "output_type": "stream",
          "text": [
            "\u001b[1m72/72\u001b[0m \u001b[32m━━━━━━━━━━━━━━━━━━━━\u001b[0m\u001b[37m\u001b[0m \u001b[1m3s\u001b[0m 47ms/step - accuracy: 0.8657 - loss: 0.5436\n",
            "\n",
            "Validation Accuracy: 0.8554\n"
          ]
        }
      ],
      "source": [
        "loss, acc = model.evaluate(X_val, y_val)\n",
        "print(f\"\\nValidation Accuracy: {acc:.4f}\")"
      ]
    },
    {
      "cell_type": "code",
      "execution_count": null,
      "metadata": {
        "colab": {
          "base_uri": "https://localhost:8080/"
        },
        "id": "Al0WL-G0p5Io",
        "outputId": "cbf38e0b-5fe6-4743-fb26-083118527228"
      },
      "outputs": [
        {
          "name": "stdout",
          "output_type": "stream",
          "text": [
            "\u001b[1m72/72\u001b[0m \u001b[32m━━━━━━━━━━━━━━━━━━━━\u001b[0m\u001b[37m\u001b[0m \u001b[1m3s\u001b[0m 43ms/step\n"
          ]
        }
      ],
      "source": [
        "# Predict classes\n",
        "y_pred_probs = model.predict(X_val)\n",
        "y_pred = np.argmax(y_pred_probs, axis=1)\n",
        "y_true = np.argmax(y_val, axis=1)"
      ]
    },
    {
      "cell_type": "code",
      "execution_count": null,
      "metadata": {
        "colab": {
          "base_uri": "https://localhost:8080/"
        },
        "id": "_xehCwDDp7BO",
        "outputId": "2e76508d-bda5-4184-934c-c58cca67b469"
      },
      "outputs": [
        {
          "name": "stdout",
          "output_type": "stream",
          "text": [
            "               precision    recall  f1-score   support\n",
            "\n",
            "      acep_lc       0.15      0.41      0.22        73\n",
            "       cep_lc       0.95      0.96      0.96      1981\n",
            "deltascuti_lc       0.00      0.00      0.00       202\n",
            "       ecl_lc       0.12      0.40      0.19        20\n",
            "\n",
            "     accuracy                           0.86      2276\n",
            "    macro avg       0.31      0.44      0.34      2276\n",
            " weighted avg       0.83      0.86      0.84      2276\n",
            "\n"
          ]
        },
        {
          "name": "stderr",
          "output_type": "stream",
          "text": [
            "/usr/local/lib/python3.11/dist-packages/sklearn/metrics/_classification.py:1565: UndefinedMetricWarning: Precision is ill-defined and being set to 0.0 in labels with no predicted samples. Use `zero_division` parameter to control this behavior.\n",
            "  _warn_prf(average, modifier, f\"{metric.capitalize()} is\", len(result))\n",
            "/usr/local/lib/python3.11/dist-packages/sklearn/metrics/_classification.py:1565: UndefinedMetricWarning: Precision is ill-defined and being set to 0.0 in labels with no predicted samples. Use `zero_division` parameter to control this behavior.\n",
            "  _warn_prf(average, modifier, f\"{metric.capitalize()} is\", len(result))\n",
            "/usr/local/lib/python3.11/dist-packages/sklearn/metrics/_classification.py:1565: UndefinedMetricWarning: Precision is ill-defined and being set to 0.0 in labels with no predicted samples. Use `zero_division` parameter to control this behavior.\n",
            "  _warn_prf(average, modifier, f\"{metric.capitalize()} is\", len(result))\n"
          ]
        }
      ],
      "source": [
        "# Classification report\n",
        "print(classification_report(y_true, y_pred, target_names=label_encoder.classes_))"
      ]
    },
    {
      "cell_type": "code",
      "execution_count": null,
      "metadata": {
        "colab": {
          "base_uri": "https://localhost:8080/",
          "height": 564
        },
        "id": "ja2ZDR-vp9it",
        "outputId": "2f6589c9-a86c-40bf-a136-e32831685b3b"
      },
      "outputs": [
        {
          "data": {
            "image/png": "[encoded data removed]",
            "text/plain": [
              "<Figure size 800x600 with 2 Axes>"
            ]
          },
          "metadata": {},
          "output_type": "display_data"
        }
      ],
      "source": [
        "# Confusion matrix\n",
        "cm = confusion_matrix(y_true, y_pred)\n",
        "plt.figure(figsize=(8,6))\n",
        "sns.heatmap(cm, annot=True, fmt=\"d\", xticklabels=label_encoder.classes_,\n",
        "            yticklabels=label_encoder.classes_)\n",
        "plt.xlabel(\"Predicted\")\n",
        "plt.ylabel(\"True\")\n",
        "plt.title(\"Confusion Matrix\")\n",
        "plt.show()"
      ]
    },
    {
      "cell_type": "code",
      "execution_count": null,
      "metadata": {
        "colab": {
          "base_uri": "https://localhost:8080/"
        },
        "id": "_EqcaQzGqLki",
        "outputId": "5549c79d-5adc-47ba-e7ef-57e77c8f3100"
      },
      "outputs": [
        {
          "name": "stdout",
          "output_type": "stream",
          "text": [
            "               precision    recall  f1-score   support\n",
            "\n",
            "      acep_lc       0.15      0.41      0.22        73\n",
            "       cep_lc       0.95      0.96      0.96      1981\n",
            "deltascuti_lc       0.00      0.00      0.00       202\n",
            "       ecl_lc       0.12      0.40      0.19        20\n",
            "\n",
            "     accuracy                           0.86      2276\n",
            "    macro avg       0.31      0.44      0.34      2276\n",
            " weighted avg       0.83      0.86      0.84      2276\n",
            "\n"
          ]
        },
        {
          "name": "stderr",
          "output_type": "stream",
          "text": [
            "/usr/local/lib/python3.11/dist-packages/sklearn/metrics/_classification.py:1565: UndefinedMetricWarning: Precision is ill-defined and being set to 0.0 in labels with no predicted samples. Use `zero_division` parameter to control this behavior.\n",
            "  _warn_prf(average, modifier, f\"{metric.capitalize()} is\", len(result))\n",
            "/usr/local/lib/python3.11/dist-packages/sklearn/metrics/_classification.py:1565: UndefinedMetricWarning: Precision is ill-defined and being set to 0.0 in labels with no predicted samples. Use `zero_division` parameter to control this behavior.\n",
            "  _warn_prf(average, modifier, f\"{metric.capitalize()} is\", len(result))\n",
            "/usr/local/lib/python3.11/dist-packages/sklearn/metrics/_classification.py:1565: UndefinedMetricWarning: Precision is ill-defined and being set to 0.0 in labels with no predicted samples. Use `zero_division` parameter to control this behavior.\n",
            "  _warn_prf(average, modifier, f\"{metric.capitalize()} is\", len(result))\n"
          ]
        }
      ],
      "source": [
        "from sklearn.metrics import classification_report\n",
        "\n",
        "print(classification_report(y_true, y_pred, target_names=label_encoder.classes_))"
      ]
    },
    {
      "cell_type": "code",
      "execution_count": null,
      "metadata": {
        "id": "DBqr0OS-qYiJ"
      },
      "outputs": [],
      "source": [
        "import numpy as np\n",
        "from collections import Counter\n",
        "\n",
        "def oversample_data(X, y):\n",
        "    y_labels = np.argmax(y, axis=1)\n",
        "    class_counts = Counter(y_labels)\n",
        "    max_count = max(class_counts.values())\n",
        "\n",
        "    X_oversampled, y_oversampled = [], []\n",
        "\n",
        "    for class_label in class_counts:\n",
        "        idxs = np.where(y_labels == class_label)[0]\n",
        "        X_class = X[idxs]\n",
        "        y_class = y[idxs]\n",
        "\n",
        "        n_to_add = max_count - len(X_class)\n",
        "        if n_to_add > 0:\n",
        "            extra_idxs = np.random.choice(len(X_class), n_to_add, replace=True)\n",
        "            X_extra = X_class[extra_idxs]\n",
        "            y_extra = y_class[extra_idxs]\n",
        "\n",
        "            X_class = np.concatenate([X_class, X_extra])\n",
        "            y_class = np.concatenate([y_class, y_extra])\n",
        "\n",
        "        X_oversampled.append(X_class)\n",
        "        y_oversampled.append(y_class)\n",
        "\n",
        "    return np.concatenate(X_oversampled), np.concatenate(y_oversampled)\n",
        "\n",
        "# Just call this before training\n",
        "X_train_balanced, y_train_balanced = oversample_data(X_train, y_train)"
      ]
    },
    {
      "cell_type": "code",
      "execution_count": null,
      "metadata": {
        "colab": {
          "base_uri": "https://localhost:8080/"
        },
        "id": "Bi1DkOneoEWU",
        "outputId": "18c83d27-b6c8-4e49-971a-326a46ab1561"
      },
      "outputs": [
        {
          "name": "stdout",
          "output_type": "stream",
          "text": [
            "\u001b[1m72/72\u001b[0m \u001b[32m━━━━━━━━━━━━━━━━━━━━\u001b[0m\u001b[37m\u001b[0m \u001b[1m3s\u001b[0m 44ms/step - accuracy: 0.9095 - loss: 0.2876\n",
            "\n",
            "Validation Accuracy: 0.9038\n"
          ]
        }
      ],
      "source": [
        "loss, acc = model.evaluate(X_val, y_val)\n",
        "print(f\"\\nValidation Accuracy: {acc:.4f}\")"
      ]
    },
    {
      "cell_type": "code",
      "execution_count": null,
      "metadata": {
        "colab": {
          "base_uri": "https://localhost:8080/"
        },
        "id": "HdizOsnloSkW",
        "outputId": "5a3346dc-aa21-40d0-9725-ee902dcc22be"
      },
      "outputs": [
        {
          "name": "stdout",
          "output_type": "stream",
          "text": [
            "\u001b[1m72/72\u001b[0m \u001b[32m━━━━━━━━━━━━━━━━━━━━\u001b[0m\u001b[37m\u001b[0m \u001b[1m3s\u001b[0m 43ms/step\n"
          ]
        }
      ],
      "source": [
        "# Predict classes\n",
        "y_pred_probs = model.predict(X_val)\n",
        "y_pred = np.argmax(y_pred_probs, axis=1)\n",
        "y_true = np.argmax(y_val, axis=1)"
      ]
    },
    {
      "cell_type": "code",
      "execution_count": null,
      "metadata": {
        "colab": {
          "base_uri": "https://localhost:8080/"
        },
        "id": "MPcoOCdNoUQx",
        "outputId": "159806d7-4398-4559-9997-d4ba8f553ff6"
      },
      "outputs": [
        {
          "name": "stdout",
          "output_type": "stream",
          "text": [
            "               precision    recall  f1-score   support\n",
            "\n",
            "      acep_lc       0.00      0.00      0.00        73\n",
            "       cep_lc       0.94      0.97      0.95      1981\n",
            "deltascuti_lc       0.60      0.63      0.62       202\n",
            "       ecl_lc       0.00      0.00      0.00        20\n",
            "\n",
            "     accuracy                           0.90      2276\n",
            "    macro avg       0.38      0.40      0.39      2276\n",
            " weighted avg       0.87      0.90      0.89      2276\n",
            "\n"
          ]
        },
        {
          "name": "stderr",
          "output_type": "stream",
          "text": [
            "/usr/local/lib/python3.11/dist-packages/sklearn/metrics/_classification.py:1565: UndefinedMetricWarning: Precision is ill-defined and being set to 0.0 in labels with no predicted samples. Use `zero_division` parameter to control this behavior.\n",
            "  _warn_prf(average, modifier, f\"{metric.capitalize()} is\", len(result))\n",
            "/usr/local/lib/python3.11/dist-packages/sklearn/metrics/_classification.py:1565: UndefinedMetricWarning: Precision is ill-defined and being set to 0.0 in labels with no predicted samples. Use `zero_division` parameter to control this behavior.\n",
            "  _warn_prf(average, modifier, f\"{metric.capitalize()} is\", len(result))\n",
            "/usr/local/lib/python3.11/dist-packages/sklearn/metrics/_classification.py:1565: UndefinedMetricWarning: Precision is ill-defined and being set to 0.0 in labels with no predicted samples. Use `zero_division` parameter to control this behavior.\n",
            "  _warn_prf(average, modifier, f\"{metric.capitalize()} is\", len(result))\n"
          ]
        }
      ],
      "source": [
        "# Classification report\n",
        "print(classification_report(y_true, y_pred, target_names=label_encoder.classes_))"
      ]
    },
    {
      "cell_type": "code",
      "execution_count": null,
      "metadata": {
        "colab": {
          "base_uri": "https://localhost:8080/",
          "height": 564
        },
        "id": "JBg9Aw7qoWS9",
        "outputId": "aa004a21-fe46-4a57-9fd7-10d443de5cce"
      },
      "outputs": [
        {
          "data": {
            "image/png": "[encoded data removed]",
            "text/plain": [
              "<Figure size 800x600 with 2 Axes>"
            ]
          },
          "metadata": {},
          "output_type": "display_data"
        }
      ],
      "source": [
        "# Confusion matrix\n",
        "cm = confusion_matrix(y_true, y_pred)\n",
        "plt.figure(figsize=(8,6))\n",
        "sns.heatmap(cm, annot=True, fmt=\"d\", xticklabels=label_encoder.classes_,\n",
        "            yticklabels=label_encoder.classes_)\n",
        "plt.xlabel(\"Predicted\")\n",
        "plt.ylabel(\"True\")\n",
        "plt.title(\"Confusion Matrix\")\n",
        "plt.show()"
      ]
    },
    {
      "cell_type": "code",
      "execution_count": null,
      "metadata": {},
      "outputs": [],
      "source": []
    }
  ],
  "metadata": {
    "colab": {
      "provenance": []
    },
    "kernelspec": {
      "display_name": "base",
      "language": "python",
      "name": "python3"
    },
    "language_info": {
      "codemirror_mode": {
        "name": "ipython",
        "version": 3
      },
      "file_extension": ".py",
      "mimetype": "text/x-python",
      "name": "python",
      "nbconvert_exporter": "python",
      "pygments_lexer": "ipython3",
      "version": "3.12.7"
    }
  },
  "nbformat": 4,
  "nbformat_minor": 0
}
